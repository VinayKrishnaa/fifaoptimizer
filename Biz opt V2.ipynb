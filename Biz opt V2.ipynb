{
 "cells": [
  {
   "cell_type": "code",
   "execution_count": null,
   "id": "0e7324f3",
   "metadata": {},
   "outputs": [],
   "source": [
    "Provide python code for this math modelling:\n",
    "Matrix A: We have an 11x25 matrix A.\n",
    "Matrix B: 1*25 matrix, there are 20 of them, B^n, forall n =  1, 2, \\ldots, 20\n",
    "Objective: We want to pick 11 elements from matrix A to maximize the sum of these selected elements.\n",
    "Constraints:\n",
    "Each row in matrix A can only have one element picked.\n",
    "The number of elements picked in aach column in matrix A needs to equal to the number in the corresponding column in matrix B^n\n",
    "To represent our decision variables, let’s define a binary matrix X of the same dimensions as matrix A. Each entry X_{ij}will be 1 if the element in row i and column j is picked, and 0 otherwise.\n",
    "Our objective function is to maximize the sum of the selected elements for each of B^n (p^n), and find the largest P^n:\n",
    "\\text{Maximize} \\quad P^n = \\sum_{i=1}^{11} \\sum_{j=1}^{25} A_{ij}X_{ij}\n",
    "Subject to the following constraints:\n",
    "\\sum_{j=1}^{25} X_{ij} = 1, \\quad \\forall i = 1, 2, \\ldots, 11\n",
    "\\sum_{i=1}^{11} X_{ij} = B^n_{1j}, \\quad \\forall j = 1, 2, \\ldots, 25:"
   ]
  },
  {
   "cell_type": "code",
   "execution_count": null,
   "id": "2c367c62",
   "metadata": {},
   "outputs": [],
   "source": [
    "from gurobipy import *\n",
    "import numpy as np\n",
    "\n",
    "# Assuming A and B are given as numpy arrays\n",
    "A = np.random.rand(11, 25)  # Replace with your actual matrix A\n",
    "B = np.random.rand(20, 25)  # Replace with your actual matrix B\n",
    "\n",
    "# Create a new model\n",
    "m = Model(\"matrix_optimization\")\n",
    "\n",
    "# Add decision variables\n",
    "X = m.addVars(11, 25, vtype=GRB.BINARY, name=\"X\")\n",
    "\n",
    "# Set objective function\n",
    "for n in range(20):\n",
    "    m.setObjective(quicksum(A[i,j]*X[i,j] for i in range(11) for j in range(25)), GRB.MAXIMIZE)\n",
    "\n",
    "    # Add constraints\n",
    "    for i in range(11):\n",
    "        m.addConstr(quicksum(X[i,j] for j in range(25)) == 1, \"row_constraint_{}\".format(i))\n",
    "\n",
    "    for j in range(25):\n",
    "        m.addConstr(quicksum(X[i,j] for i in range(11)) == B[n,j], \"col_constraint_{}\".format(j))\n",
    "\n",
    "    # Disable output logging\n",
    "    m.setParam(\"OutputFlag\", 0)\n",
    "\n",
    "    # Optimize model\n",
    "    m.optimize()\n",
    "\n",
    "    # Check if the optimization was successful\n",
    "    if m.status == GRB.Status.OPTIMAL:\n",
    "        print(\"Optimal solution found for B[{}]\".format(n))\n",
    "        print(\"Objective value: \", m.objVal)\n",
    "        print(\"Optimal solution:\")\n",
    "        for i in range(11):\n",
    "            for j in range(25):\n",
    "                if X[i,j].x > 0.5:\n",
    "                    print(\"X[{},{}] = {}\".format(i, j, X[i,j].x))\n"
   ]
  }
 ],
 "metadata": {
  "kernelspec": {
   "display_name": "Python 3 (ipykernel)",
   "language": "python",
   "name": "python3"
  },
  "language_info": {
   "codemirror_mode": {
    "name": "ipython",
    "version": 3
   },
   "file_extension": ".py",
   "mimetype": "text/x-python",
   "name": "python",
   "nbconvert_exporter": "python",
   "pygments_lexer": "ipython3",
   "version": "3.11.5"
  }
 },
 "nbformat": 4,
 "nbformat_minor": 5
}
