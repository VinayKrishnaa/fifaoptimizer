{
 "cells": [
  {
   "cell_type": "code",
   "execution_count": null,
   "id": "7d7317b4",
   "metadata": {},
   "outputs": [],
   "source": [
    "Provide python code for this math modelling:\n",
    "Matrix A: We have an 11x25 matrix A.\n",
    "Matrix B: 1*25 matrix\n",
    "Objective: We want to pick 11 elements from matrix A to maximize the sum of these selected elements.\n",
    "Constraints:\n",
    "Each row in matrix A can only have one element picked.\n",
    "The number of elements picked in aach column in matrix A needs to equal to the number in the corresponding column in matrix B\n",
    "To represent our decision variables, let’s define a binary matrix X of the same dimensions as matrix A. Each entry X_{ij}will be 1 if the element in row i and column j is picked, and 0 otherwise.\n",
    "Our objective function is to maximize the sum of the selected elements:\n",
    "\\text{Maximize} \\quad Z = \\sum_{i=1}^{11} \\sum_{j=1}^{25} A_{ij}X_{ij}\n",
    "Subject to the following constraints:\n",
    "\\sum_{j=1}^{25} X_{ij} = 1, \\quad \\forall i = 1, 2, \\ldots, 11\n",
    "\\sum_{i=1}^{11} X_{ij} = B_{1j}, \\quad \\forall j = 1, 2, \\ldots, 25:\n",
    "Solving this linear programming problem will give us the optimal selection of elements from matrix A that maximizes the sum while satisfying the constraints. The resulting binary matrix X will indicate which elements are selected."
   ]
  },
  {
   "cell_type": "code",
   "execution_count": null,
   "id": "520ba21b",
   "metadata": {},
   "outputs": [],
   "source": [
    "from gurobipy import *\n",
    "import numpy as np\n",
    "\n",
    "# Assuming A and B are given as numpy arrays\n",
    "A = np.random.rand(11, 25)  # Replace with your actual matrix A\n",
    "B = np.random.randint(1, 12, 25)  # Replace with your actual matrix B\n",
    "\n",
    "# Create a new model\n",
    "m = Model(\"matrix_optimization\")\n",
    "\n",
    "# Create variables\n",
    "X = m.addVars(11, 25, vtype=GRB.BINARY, name=\"X\")\n",
    "\n",
    "# Set objective\n",
    "m.setObjective(quicksum(A[i, j]*X[i, j] for i in range(11) for j in range(25)), GRB.MAXIMIZE)\n",
    "\n",
    "# Add row constraints\n",
    "m.addConstrs((quicksum(X[i, j] for j in range(25)) == 1 for i in range(11)), name=\"row\")\n",
    "\n",
    "# Add column constraints\n",
    "m.addConstrs((quicksum(X[i, j] for i in range(11)) == B[j] for j in range(25)), name=\"col\")\n",
    "\n",
    "# Disable output logging\n",
    "m.setParam(\"OutputFlag\", 0)\n",
    "\n",
    "# Optimize model\n",
    "m.optimize()\n",
    "\n",
    "# Check the status of the solution\n",
    "if m.status == GRB.Status.OPTIMAL:\n",
    "    print('Optimal solution found with objective value: ', m.objVal)\n",
    "    # Retrieve and display the optimal solution\n",
    "    for i in range(11):\n",
    "        for j in range(25):\n",
    "            if X[i, j].x > 0.5:\n",
    "                print(f'Element picked at row {i+1}, column {j+1} with value {A[i, j]}')\n",
    "else:\n",
    "    print('No optimal solution found.')\n"
   ]
  }
 ],
 "metadata": {
  "kernelspec": {
   "display_name": "Python 3 (ipykernel)",
   "language": "python",
   "name": "python3"
  },
  "language_info": {
   "codemirror_mode": {
    "name": "ipython",
    "version": 3
   },
   "file_extension": ".py",
   "mimetype": "text/x-python",
   "name": "python",
   "nbconvert_exporter": "python",
   "pygments_lexer": "ipython3",
   "version": "3.11.5"
  }
 },
 "nbformat": 4,
 "nbformat_minor": 5
}
